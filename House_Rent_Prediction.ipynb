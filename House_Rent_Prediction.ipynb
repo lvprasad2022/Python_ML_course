{
 "cells": [
  {
   "cell_type": "code",
   "execution_count": null,
   "metadata": {},
   "outputs": [],
   "source": []
  }
 ],
 "metadata": {
  "kernelspec": {
   "display_name": "Python 3",
   "language": "python",
   "name": "python3"
  },
  "language_info": {
   "name": "python",
   "version": "3.6.3"
  },
  "orig_nbformat": 4,
  "vscode": {
   "interpreter": {
    "hash": "a0e4ad23ca2f08795ff962e38b47492dd0a8c768f52020f83b773e8be83dbe77"
   }
  }
 },
 "nbformat": 4,
 "nbformat_minor": 2
}
