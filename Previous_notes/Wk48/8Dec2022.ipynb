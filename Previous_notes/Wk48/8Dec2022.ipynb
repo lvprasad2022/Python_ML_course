{
 "cells": [
  {
   "cell_type": "code",
   "execution_count": null,
   "metadata": {},
   "outputs": [],
   "source": [
    "np.ravel() # To flatten the arrays\n",
    "np.reshape() # Gives a new shape to an array without changing its data - returns View\n",
    "np.resize() # Return a new array with the specified shape - returns Copy\n",
    "np.sort() # Retuns a sorted copy\n",
    "np.concatenate()\n",
    "np.stack()\n",
    "np.vstack()\n",
    "np.hstack()\n",
    "np.array_split(arr, 3)\n",
    "np.hsplit()"
   ]
  },
  {
   "cell_type": "code",
   "execution_count": 80,
   "metadata": {},
   "outputs": [
    {
     "data": {
      "text/plain": [
       "array([18,  7, 10,  0,  6, 16,  2, 17, 13, 19,  9, 12,  8, 14,  6, 13,  9,\n",
       "       18,  7,  3,  3,  8,  8, 12, 19, 17, 13,  8,  0, 18])"
      ]
     },
     "execution_count": 80,
     "metadata": {},
     "output_type": "execute_result"
    }
   ],
   "source": [
    "import numpy as np\n",
    "\n",
    "a= np.random.randint(0,20,30)\n",
    "a"
   ]
  },
  {
   "cell_type": "code",
   "execution_count": 81,
   "metadata": {},
   "outputs": [
    {
     "data": {
      "text/plain": [
       "(30,)"
      ]
     },
     "execution_count": 81,
     "metadata": {},
     "output_type": "execute_result"
    }
   ],
   "source": [
    "a.shape"
   ]
  },
  {
   "cell_type": "code",
   "execution_count": 82,
   "metadata": {},
   "outputs": [
    {
     "data": {
      "text/plain": [
       "array([[18,  7, 10,  0,  6, 16],\n",
       "       [ 2, 17, 13, 19,  9, 12],\n",
       "       [ 8, 14,  6, 13,  9, 18],\n",
       "       [ 7,  3,  3,  8,  8, 12],\n",
       "       [19, 17, 13,  8,  0, 18]])"
      ]
     },
     "execution_count": 82,
     "metadata": {},
     "output_type": "execute_result"
    }
   ],
   "source": [
    "b= a.reshape((5,6))\n",
    "b"
   ]
  },
  {
   "cell_type": "code",
   "execution_count": 83,
   "metadata": {},
   "outputs": [
    {
     "data": {
      "text/plain": [
       "array([    18,      7,     10,      0,      6,     16,      2,     17,\n",
       "           13,     19, 100000,     12,      8,     14,      6,     13,\n",
       "            9,     18,      7,      3,      3,      8,      8,     12,\n",
       "           19,     17,     13,      8,      0,     18])"
      ]
     },
     "execution_count": 83,
     "metadata": {},
     "output_type": "execute_result"
    }
   ],
   "source": [
    "a[10] = 100000\n",
    "a"
   ]
  },
  {
   "cell_type": "code",
   "execution_count": 84,
   "metadata": {},
   "outputs": [
    {
     "data": {
      "text/plain": [
       "(30,)"
      ]
     },
     "execution_count": 84,
     "metadata": {},
     "output_type": "execute_result"
    }
   ],
   "source": [
    "a.shape"
   ]
  },
  {
   "cell_type": "code",
   "execution_count": 85,
   "metadata": {},
   "outputs": [
    {
     "data": {
      "text/plain": [
       "array([[    18,      7,     10,      0,      6,     16],\n",
       "       [     2,     17,     13,     19, 100000,     12],\n",
       "       [     8,     14,      6,     13,      9,     18],\n",
       "       [     7,      3,      3,      8,      8,     12],\n",
       "       [    19,     17,     13,      8,      0,     18]])"
      ]
     },
     "execution_count": 85,
     "metadata": {},
     "output_type": "execute_result"
    }
   ],
   "source": [
    "b"
   ]
  },
  {
   "cell_type": "code",
   "execution_count": 89,
   "metadata": {},
   "outputs": [
    {
     "data": {
      "text/plain": [
       "array([[    18,      7,     10,      0,      6,     16],\n",
       "       [     2,     17,     13,     19, 100000,     12],\n",
       "       [     8,     14,      6,     13,      9,     18],\n",
       "       [     7,      3,      3,      8,      8,     12],\n",
       "       [    19,     17,     13,      8,      0,     18]])"
      ]
     },
     "execution_count": 89,
     "metadata": {},
     "output_type": "execute_result"
    }
   ],
   "source": [
    "c= np.resize(a,(5,6))\n",
    "c"
   ]
  },
  {
   "cell_type": "code",
   "execution_count": 90,
   "metadata": {},
   "outputs": [
    {
     "ename": "IndexError",
     "evalue": "index 10 is out of bounds for axis 0 with size 5",
     "output_type": "error",
     "traceback": [
      "\u001b[1;31m---------------------------------------------------------------------------\u001b[0m",
      "\u001b[1;31mIndexError\u001b[0m                                Traceback (most recent call last)",
      "\u001b[1;32m<ipython-input-90-0049ac259f4c>\u001b[0m in \u001b[0;36m<module>\u001b[1;34m()\u001b[0m\n\u001b[1;32m----> 1\u001b[1;33m \u001b[0ma\u001b[0m\u001b[1;33m[\u001b[0m\u001b[1;36m10\u001b[0m\u001b[1;33m]\u001b[0m \u001b[1;33m=\u001b[0m \u001b[1;36m200000\u001b[0m\u001b[1;33m\u001b[0m\u001b[0m\n\u001b[0m\u001b[0;32m      2\u001b[0m \u001b[0ma\u001b[0m\u001b[1;33m\u001b[0m\u001b[0m\n",
      "\u001b[1;31mIndexError\u001b[0m: index 10 is out of bounds for axis 0 with size 5"
     ]
    }
   ],
   "source": [
    "a[10] = 200000\n"
   ]
  },
  {
   "cell_type": "code",
   "execution_count": 91,
   "metadata": {},
   "outputs": [
    {
     "data": {
      "text/plain": [
       "(5, 6)"
      ]
     },
     "execution_count": 91,
     "metadata": {},
     "output_type": "execute_result"
    }
   ],
   "source": [
    "a.shape"
   ]
  },
  {
   "cell_type": "code",
   "execution_count": 92,
   "metadata": {},
   "outputs": [
    {
     "data": {
      "text/plain": [
       "array([10,  0, 19,  7,  7,  7, 11,  2,  2,  3,  0,  3, 12,  8,  0,  5, 12,\n",
       "        9, 13, 16])"
      ]
     },
     "execution_count": 92,
     "metadata": {},
     "output_type": "execute_result"
    }
   ],
   "source": [
    "u = np.random.randint(0,20,20)\n",
    "u"
   ]
  },
  {
   "cell_type": "code",
   "execution_count": 93,
   "metadata": {},
   "outputs": [
    {
     "data": {
      "text/plain": [
       "(20,)"
      ]
     },
     "execution_count": 93,
     "metadata": {},
     "output_type": "execute_result"
    }
   ],
   "source": [
    "u.shape"
   ]
  },
  {
   "cell_type": "code",
   "execution_count": 94,
   "metadata": {},
   "outputs": [
    {
     "data": {
      "text/plain": [
       "array([[10,  0, 19,  7],\n",
       "       [ 7,  7, 11,  2],\n",
       "       [ 2,  3,  0,  3],\n",
       "       [12,  8,  0,  5],\n",
       "       [12,  9, 13, 16]])"
      ]
     },
     "execution_count": 94,
     "metadata": {},
     "output_type": "execute_result"
    }
   ],
   "source": [
    "v= np.resize(u,(5,4))\n",
    "v"
   ]
  },
  {
   "cell_type": "code",
   "execution_count": 95,
   "metadata": {},
   "outputs": [
    {
     "data": {
      "text/plain": [
       "array([    10,      0,     19,      7,      7,      7,     11,      2,\n",
       "       200000,      3,      0,      3,     12,      8,      0,      5,\n",
       "           12,      9,     13,     16])"
      ]
     },
     "execution_count": 95,
     "metadata": {},
     "output_type": "execute_result"
    }
   ],
   "source": [
    "u[8] = 200000\n",
    "u"
   ]
  },
  {
   "cell_type": "code",
   "execution_count": 96,
   "metadata": {},
   "outputs": [
    {
     "data": {
      "text/plain": [
       "array([[10,  0, 19,  7],\n",
       "       [ 7,  7, 11,  2],\n",
       "       [ 2,  3,  0,  3],\n",
       "       [12,  8,  0,  5],\n",
       "       [12,  9, 13, 16]])"
      ]
     },
     "execution_count": 96,
     "metadata": {},
     "output_type": "execute_result"
    }
   ],
   "source": [
    "v"
   ]
  },
  {
   "cell_type": "code",
   "execution_count": 97,
   "metadata": {},
   "outputs": [
    {
     "data": {
      "text/plain": [
       "(5, 4)"
      ]
     },
     "execution_count": 97,
     "metadata": {},
     "output_type": "execute_result"
    }
   ],
   "source": [
    "v.shape"
   ]
  },
  {
   "cell_type": "code",
   "execution_count": 98,
   "metadata": {},
   "outputs": [
    {
     "data": {
      "text/plain": [
       "array([10,  0, 19,  7,  7,  7, 11,  2,  2,  3,  0,  3, 12,  8,  0,  5, 12,\n",
       "        9, 13, 16])"
      ]
     },
     "execution_count": 98,
     "metadata": {},
     "output_type": "execute_result"
    }
   ],
   "source": [
    "v.ravel()"
   ]
  },
  {
   "cell_type": "code",
   "execution_count": 99,
   "metadata": {},
   "outputs": [
    {
     "data": {
      "text/plain": [
       "(20,)"
      ]
     },
     "execution_count": 99,
     "metadata": {},
     "output_type": "execute_result"
    }
   ],
   "source": [
    "v.ravel().shape"
   ]
  },
  {
   "cell_type": "code",
   "execution_count": 100,
   "metadata": {},
   "outputs": [
    {
     "data": {
      "text/plain": [
       "array([[10,  0, 19,  7],\n",
       "       [ 7,  7, 11,  2],\n",
       "       [ 2,  3,  0,  3],\n",
       "       [12,  8,  0,  5],\n",
       "       [12,  9, 13, 16]])"
      ]
     },
     "execution_count": 100,
     "metadata": {},
     "output_type": "execute_result"
    }
   ],
   "source": [
    "v"
   ]
  },
  {
   "cell_type": "code",
   "execution_count": 101,
   "metadata": {},
   "outputs": [],
   "source": [
    "v.sort()"
   ]
  },
  {
   "cell_type": "code",
   "execution_count": 102,
   "metadata": {},
   "outputs": [
    {
     "data": {
      "text/plain": [
       "array([[ 0,  7, 10, 19],\n",
       "       [ 2,  7,  7, 11],\n",
       "       [ 0,  2,  3,  3],\n",
       "       [ 0,  5,  8, 12],\n",
       "       [ 9, 12, 13, 16]])"
      ]
     },
     "execution_count": 102,
     "metadata": {},
     "output_type": "execute_result"
    }
   ],
   "source": [
    "v"
   ]
  },
  {
   "cell_type": "code",
   "execution_count": 103,
   "metadata": {},
   "outputs": [
    {
     "data": {
      "text/plain": [
       "array([[ 0,  7, 10, 19],\n",
       "       [ 2,  7,  7, 11],\n",
       "       [ 0,  2,  3,  3],\n",
       "       [ 0,  5,  8, 12],\n",
       "       [ 9, 12, 13, 16]])"
      ]
     },
     "execution_count": 103,
     "metadata": {},
     "output_type": "execute_result"
    }
   ],
   "source": [
    "v"
   ]
  },
  {
   "cell_type": "code",
   "execution_count": 106,
   "metadata": {},
   "outputs": [
    {
     "data": {
      "text/plain": [
       "(5, 4)"
      ]
     },
     "execution_count": 106,
     "metadata": {},
     "output_type": "execute_result"
    }
   ],
   "source": [
    "v.shape"
   ]
  },
  {
   "cell_type": "code",
   "execution_count": 104,
   "metadata": {},
   "outputs": [
    {
     "data": {
      "text/plain": [
       "array([[ 0,  7, 10, 19],\n",
       "       [ 2,  7,  7, 11],\n",
       "       [ 0,  2,  3,  3],\n",
       "       [ 0,  5,  8, 12],\n",
       "       [ 9, 12, 13, 16],\n",
       "       [ 0,  7, 10, 19],\n",
       "       [ 2,  7,  7, 11],\n",
       "       [ 0,  2,  3,  3],\n",
       "       [ 0,  5,  8, 12],\n",
       "       [ 9, 12, 13, 16]])"
      ]
     },
     "execution_count": 104,
     "metadata": {},
     "output_type": "execute_result"
    }
   ],
   "source": [
    "w= np.concatenate((v,v))\n",
    "w"
   ]
  },
  {
   "cell_type": "code",
   "execution_count": 105,
   "metadata": {},
   "outputs": [
    {
     "data": {
      "text/plain": [
       "(10, 4)"
      ]
     },
     "execution_count": 105,
     "metadata": {},
     "output_type": "execute_result"
    }
   ],
   "source": [
    "w.shape"
   ]
  },
  {
   "cell_type": "code",
   "execution_count": 107,
   "metadata": {},
   "outputs": [
    {
     "data": {
      "text/plain": [
       "array([[ 0,  7, 10, 19],\n",
       "       [ 2,  7,  7, 11],\n",
       "       [ 0,  2,  3,  3],\n",
       "       [ 0,  5,  8, 12],\n",
       "       [ 9, 12, 13, 16],\n",
       "       [ 0,  7, 10, 19],\n",
       "       [ 2,  7,  7, 11],\n",
       "       [ 0,  2,  3,  3],\n",
       "       [ 0,  5,  8, 12],\n",
       "       [ 9, 12, 13, 16]])"
      ]
     },
     "execution_count": 107,
     "metadata": {},
     "output_type": "execute_result"
    }
   ],
   "source": [
    "x = np.vstack((v,v))\n",
    "x"
   ]
  },
  {
   "cell_type": "code",
   "execution_count": 108,
   "metadata": {},
   "outputs": [
    {
     "data": {
      "text/plain": [
       "(10, 4)"
      ]
     },
     "execution_count": 108,
     "metadata": {},
     "output_type": "execute_result"
    }
   ],
   "source": [
    "x.shape"
   ]
  },
  {
   "cell_type": "code",
   "execution_count": 109,
   "metadata": {},
   "outputs": [
    {
     "data": {
      "text/plain": [
       "array([[ 0,  7, 10, 19,  0,  7, 10, 19],\n",
       "       [ 2,  7,  7, 11,  2,  7,  7, 11],\n",
       "       [ 0,  2,  3,  3,  0,  2,  3,  3],\n",
       "       [ 0,  5,  8, 12,  0,  5,  8, 12],\n",
       "       [ 9, 12, 13, 16,  9, 12, 13, 16]])"
      ]
     },
     "execution_count": 109,
     "metadata": {},
     "output_type": "execute_result"
    }
   ],
   "source": [
    "y= np.hstack((v,v))\n",
    "y"
   ]
  },
  {
   "cell_type": "code",
   "execution_count": 110,
   "metadata": {},
   "outputs": [
    {
     "data": {
      "text/plain": [
       "(5, 8)"
      ]
     },
     "execution_count": 110,
     "metadata": {},
     "output_type": "execute_result"
    }
   ],
   "source": [
    "y.shape"
   ]
  },
  {
   "cell_type": "code",
   "execution_count": 111,
   "metadata": {},
   "outputs": [
    {
     "data": {
      "text/plain": [
       "array([[[ 0,  7, 10, 19],\n",
       "        [ 2,  7,  7, 11],\n",
       "        [ 0,  2,  3,  3],\n",
       "        [ 0,  5,  8, 12],\n",
       "        [ 9, 12, 13, 16]],\n",
       "\n",
       "       [[ 0,  7, 10, 19],\n",
       "        [ 2,  7,  7, 11],\n",
       "        [ 0,  2,  3,  3],\n",
       "        [ 0,  5,  8, 12],\n",
       "        [ 9, 12, 13, 16]]])"
      ]
     },
     "execution_count": 111,
     "metadata": {},
     "output_type": "execute_result"
    }
   ],
   "source": [
    "z = np.stack((v,v))\n",
    "z"
   ]
  },
  {
   "cell_type": "code",
   "execution_count": 112,
   "metadata": {},
   "outputs": [
    {
     "data": {
      "text/plain": [
       "(2, 5, 4)"
      ]
     },
     "execution_count": 112,
     "metadata": {},
     "output_type": "execute_result"
    }
   ],
   "source": [
    "z.shape"
   ]
  },
  {
   "cell_type": "code",
   "execution_count": 113,
   "metadata": {},
   "outputs": [
    {
     "data": {
      "text/plain": [
       "array([17, 23,  3,  3, 20, 23, 11, 29,  4, 17, 29,  3, 12, 18,  9])"
      ]
     },
     "execution_count": 113,
     "metadata": {},
     "output_type": "execute_result"
    }
   ],
   "source": [
    "p = np.random.randint(1,30,15)\n",
    "p"
   ]
  },
  {
   "cell_type": "code",
   "execution_count": 116,
   "metadata": {},
   "outputs": [
    {
     "data": {
      "text/plain": [
       "[array([17, 23]),\n",
       " array([3, 3]),\n",
       " array([20, 23]),\n",
       " array([11, 29]),\n",
       " array([ 4, 17]),\n",
       " array([29]),\n",
       " array([3]),\n",
       " array([12]),\n",
       " array([18]),\n",
       " array([9])]"
      ]
     },
     "execution_count": 116,
     "metadata": {},
     "output_type": "execute_result"
    }
   ],
   "source": [
    "q= np.array_split(p,10)\n",
    "q"
   ]
  },
  {
   "cell_type": "code",
   "execution_count": 119,
   "metadata": {},
   "outputs": [
    {
     "data": {
      "text/plain": [
       "array([[17, 23,  3,  3, 20],\n",
       "       [23, 11, 29,  4, 17],\n",
       "       [29,  3, 12, 18,  9]])"
      ]
     },
     "execution_count": 119,
     "metadata": {},
     "output_type": "execute_result"
    }
   ],
   "source": [
    "n = p.reshape((3,5))\n",
    "n"
   ]
  },
  {
   "cell_type": "code",
   "execution_count": 120,
   "metadata": {},
   "outputs": [
    {
     "data": {
      "text/plain": [
       "(3, 5)"
      ]
     },
     "execution_count": 120,
     "metadata": {},
     "output_type": "execute_result"
    }
   ],
   "source": [
    "n.shape"
   ]
  },
  {
   "cell_type": "code",
   "execution_count": 124,
   "metadata": {},
   "outputs": [
    {
     "data": {
      "text/plain": [
       "[array([[17, 23,  3,  3, 20]]),\n",
       " array([[23, 11, 29,  4, 17]]),\n",
       " array([[29,  3, 12, 18,  9]])]"
      ]
     },
     "execution_count": 124,
     "metadata": {},
     "output_type": "execute_result"
    }
   ],
   "source": [
    "s = np.vsplit(n,3)\n",
    "s"
   ]
  },
  {
   "cell_type": "code",
   "execution_count": null,
   "metadata": {},
   "outputs": [],
   "source": []
  }
 ],
 "metadata": {
  "kernelspec": {
   "display_name": "Python 3",
   "language": "python",
   "name": "python3"
  },
  "language_info": {
   "codemirror_mode": {
    "name": "ipython",
    "version": 3
   },
   "file_extension": ".py",
   "mimetype": "text/x-python",
   "name": "python",
   "nbconvert_exporter": "python",
   "pygments_lexer": "ipython3",
   "version": "3.6.5"
  }
 },
 "nbformat": 4,
 "nbformat_minor": 2
}
